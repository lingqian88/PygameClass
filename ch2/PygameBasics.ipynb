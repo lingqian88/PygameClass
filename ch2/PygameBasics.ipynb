{
 "cells": [
  {
   "cell_type": "markdown",
   "metadata": {},
   "source": [
    "# Pygame Basics"
   ]
  },
  {
   "cell_type": "code",
   "execution_count": null,
   "metadata": {
    "collapsed": true
   },
   "outputs": [],
   "source": [
    "import pygame, sys\n",
    "from pygame.locals import *\n",
    "\n",
    "pygame.init()\n",
    "DISPLAYSURF = pygame.display.set_mode((400, 300))\n",
    "pygame.display.set_caption('Hello Pygame World!')\n",
    "while True: # main game loop\n",
    "    for event in pygame.event.get():\n",
    "        if event.type == QUIT:\n",
    "            pygame.quit()\n",
    "            "
   ]
  },
  {
   "cell_type": "markdown",
   "metadata": {},
   "source": [
    "## Main game loop\n",
    "The main game loop is constantly cycling between 3 things.\n",
    "1. Handling events\n",
    "2. Updating the game state\n",
    "3. Drawing the screen\n",
    "\n",
    "### Game state\n",
    "The game state is the value of all of the variables that describe the game at a given point in time.\n",
    "\n",
    "In a poker game, the game state could be the names of the players, the amount of money each player has, the cards in their hands, and the cards left in the deck.\n",
    "\n",
    "In a Pokemon game, the game state could be the name of the player, the position of the player in the world, the names and types of Pokemon the player has caught, the HP and attacks that each Pokemon they own, and many, many more.\n",
    "\n",
    "### Events\n",
    "Events are an action or occurence that happen in a game. The events need to be defined so that the program can recognize them.\n",
    "\n",
    "Player inputs are often events. In a console game, pressing the UP/DOWN LEFT/RIGHT, or ABXY buttons would be considered an event. Pygame contains many events. The event that we used in the example above was the QUIT event which is used to signal that the program should end. A full list of events is [here](http://www.pygame.org/docs/ref/event.html). Once we see one of these events we can execute code based on that event.\n",
    "\n",
    "In the example we quit pygame then quit python. Pygame needs to exit before python or python will stop working.\n",
    "\n",
    "```py\n",
    "if event.type == QUIT:\n",
    "    pygame.quit()\n",
    "    sys.exit()\n",
    "```\n",
    "\n",
    "### Drawing the screen\n",
    "In order to update the screen with our changes we execute:\n",
    "```py\n",
    "pygame.display_update()\n",
    "```\n",
    "Since there were no changes to the screen, this does nothing\n",
    "\n",
    "### Screen size\n",
    "Try updating the line to change the size of the screen.\n",
    "```py\n",
    "DISPLAYSURF = pygame.display.set_mode((400, 300))\n",
    "```\n",
    "The first number is the width and the second number is the height in pixels. Notice the two sets of parentheses. The set_mode function requires a two-integer tuple. Tuples are surrounded by parentheses."
   ]
  },
  {
   "cell_type": "markdown",
   "metadata": {
    "collapsed": true
   },
   "source": [
    "## Drawing"
   ]
  },
  {
   "cell_type": "code",
   "execution_count": 3,
   "metadata": {},
   "outputs": [
    {
     "ename": "SystemExit",
     "evalue": "",
     "output_type": "error",
     "traceback": [
      "An exception has occurred, use %tb to see the full traceback.\n",
      "\u001b[0;31mSystemExit\u001b[0m\n"
     ]
    },
    {
     "name": "stderr",
     "output_type": "stream",
     "text": [
      "/home/bz6w8b/miniconda2/envs/pygame/lib/python3.6/site-packages/IPython/core/interactiveshell.py:2889: UserWarning: To exit: use 'exit', 'quit', or Ctrl-D.\n",
      "  warn(\"To exit: use 'exit', 'quit', or Ctrl-D.\", stacklevel=1)\n"
     ]
    }
   ],
   "source": [
    "import pygame\n",
    "from pygame.locals import *\n",
    "\n",
    "pygame.init()\n",
    "DISPLAYSURF = pygame.display.set_mode((500, 400), 0, 32)\n",
    "pygame.display.set_caption('Drawing')\n",
    "\n",
    "#Colors\n",
    "BLACK = (  0,   0,   0)\n",
    "WHITE = (255, 255, 255)\n",
    "RED   = (255,   0,   0)\n",
    "GREEN = (  0, 255,   0)\n",
    "BLUE  = (  0,   0, 255)\n",
    "\n",
    "DISPLAYSURF.fill(WHITE)\n",
    "pygame.draw.polygon(DISPLAYSURF, GREEN, ((146, 0), \n",
    "                                         (291, 106), \n",
    "                                         (236, 277),\n",
    "                                         (56, 277),\n",
    "                                         (0, 106)))\n",
    "pygame.draw.line(DISPLAYSURF, BLUE, (60, 60), (120, 60), 4)\n",
    "pygame.draw.line(DISPLAYSURF, BLUE, (120, 60), (60, 120))\n",
    "pygame.draw.line(DISPLAYSURF, BLUE, (60, 120), (120, 120), 4)\n",
    "\n",
    "pygame.draw.circle(DISPLAYSURF, BLUE, (300, 50), 20, 0)\n",
    "pygame.draw.ellipse(DISPLAYSURF, RED, (300, 250, 40, 80), 1)\n",
    "pygame.draw.rect(DISPLAYSURF, RED, (200, 150, 100, 50))\n",
    "\n",
    "pixObj = pygame.PixelArray(DISPLAYSURF)\n",
    "pixObj[480][380] = BLACK\n",
    "pixObj[482][382] = BLACK\n",
    "pixObj[484][384] = BLACK\n",
    "pixObj[486][386] = BLACK\n",
    "pixObj[488][388] = BLACK\n",
    "del pixObj\n",
    "\n",
    "while True:\n",
    "    for event in pygame.event.get():\n",
    "        if event.type == QUIT:\n",
    "            pygame.quit()\n",
    "            sys.exit()\n",
    "        pygame.display.update()"
   ]
  },
  {
   "cell_type": "markdown",
   "metadata": {},
   "source": [
    "## Colors\n",
    "A color is defined by a tuple with either 3 or 4 numbers between 0 and 255. A tuple is defined by placing parentheses around variables and separating the variables with commas:\n",
    "\n",
    "```py\n",
    "tuple1 = (0, 0, 0)\n",
    "tuple2 = (255, 255, 255, 255)\n",
    "```\n",
    "A three variable color is RGB where the first variable is red-ness, the second variable is green-ness, and the third is blue-ness. If a fourth variable is added this is the alpha. Alpha is the opaque-ness. Alpha of 0 is transparent (see-through) while 255 is opaque (not see through at all).\n",
    "\n",
    "See [this tool](http://www.rapidtables.com/web/color/RGB_Color.htm) for converting colors into numbers."
   ]
  },
  {
   "cell_type": "markdown",
   "metadata": {},
   "source": [
    "## Drawing documentation\n",
    "All documentation on drawing in pygame can be found [here](https://www.pygame.org/docs/ref/draw.html#pygame.draw.circle). The following cells will explain the functions we used.\n",
    "\n",
    "### fill\n",
    "```py\n",
    "DISPLAYSURF.fill(color)\n",
    "```\n",
    "Fills the surface object with COLOR. Try changing WHITE with a different RGB tuple and see what happens. (e.g. (0, 128, 128) is teal)\n",
    "\n",
    "### Draw polygon\n",
    "```py\n",
    "pygame.draw.polygon(surface, color, (corner_1, corner_2, ... corner_n), thickness)\n",
    "```\n",
    "Try changing the corners of the pentagon or add more corners to make a different shape. What happens if you choose a number larger than the size of the display surface?\n",
    "\n",
    "### Draw Line\n",
    "```py\n",
    "pygame.draw.line(surface, color, start_point, end_point, thickness)\n",
    "```\n",
    "Try changin the start and end of the lines.\n",
    "The thickness defaults to 1 if it isn't specified.\n",
    "\n",
    "### Draw Circle\n",
    "```py\n",
    "pygame.draw.circle(surface, color, center_point, radius, width)\n",
    "```\n",
    "center_point will control where the circle is located while radius will control the size of the circle. width is the thickness of the line around the circle. If width is zero then it will fill the object. If width isn't given it will be set to zero. ### Draw Ellipse\n",
    "```py\n",
    "pygame.draw.ellipse(surface, color, (corner_1_x, corner_1_y, corner_2_x, corner_2_y), width)\n",
    "```\n",
    "Draws an oval-like shape that will fit into a rectangle defined by two corners by a list of four numbers.\n",
    "\n",
    "### Pixel Arrays\n",
    "```py\n",
    "pixObj = pygame.PixelArray(DISPLAYSURF)\n",
    "pixObj[480][380] = BLACK\n",
    "pixObj[482][382] = BLACK\n",
    "pixObj[484][384] = BLACK\n",
    "pixObj[486][386] = BLACK\n",
    "pixObj[488][388] = BLACK\n",
    "del pixObj\n",
    "```\n",
    "In order to individually change pixels, we need to use a Pixel Array. This is a list of lists. In order to change the pixel at position (100, 200) to BLACK, you would set. 0,0 is in the top-left corner.\n",
    "```py\n",
    "pixObj[100][200] = BLACK\n",
    "```\n",
    "The Pixel Array needs to be deleted in order for other functions like line, circle, etc. to use it."
   ]
  },
  {
   "cell_type": "code",
   "execution_count": 1,
   "metadata": {
    "scrolled": true
   },
   "outputs": [
    {
     "ename": "SystemExit",
     "evalue": "",
     "output_type": "error",
     "traceback": [
      "An exception has occurred, use %tb to see the full traceback.\n",
      "\u001b[0;31mSystemExit\u001b[0m\n"
     ]
    },
    {
     "name": "stderr",
     "output_type": "stream",
     "text": [
      "/home/bz6w8b/miniconda2/envs/pygame/lib/python3.6/site-packages/IPython/core/interactiveshell.py:2889: UserWarning: To exit: use 'exit', 'quit', or Ctrl-D.\n",
      "  warn(\"To exit: use 'exit', 'quit', or Ctrl-D.\", stacklevel=1)\n"
     ]
    }
   ],
   "source": [
    "import pygame, sys\n",
    "from pygame.locals import *\n",
    "\n",
    "pygame.init()\n",
    "\n",
    "FPS = 30\n",
    "fps_clock = pygame.time.Clock()\n",
    "\n",
    "DISPLAYSURF = pygame.display.set_mode((400, 300), 0, 32)\n",
    "pygame.display.set_caption('Animation')\n",
    "\n",
    "WHITE = (255, 255, 255)\n",
    "cat_img = pygame.image.load('cat.png')\n",
    "catx = 10\n",
    "caty = 10\n",
    "direction = 'right'\n",
    "\n",
    "while True:\n",
    "    DISPLAYSURF.fill(WHITE)\n",
    "    \n",
    "    if direction == 'right':\n",
    "        catx += 5\n",
    "        if catx == 280:\n",
    "            direction = 'down'\n",
    "    elif direction == 'down':\n",
    "        caty += 5\n",
    "        if caty == 200:\n",
    "            direction = 'left'\n",
    "    elif direction == 'left':\n",
    "        catx -= 5\n",
    "        if catx == 10:\n",
    "            direction = 'up'\n",
    "    elif direction == 'up':\n",
    "        caty -= 5\n",
    "        if caty == 10:\n",
    "            direction = 'right'\n",
    "    \n",
    "    DISPLAYSURF.blit(cat_img, (catx, caty))\n",
    "    for event in pygame.event.get():\n",
    "        if event.type == QUIT:\n",
    "            pygame.quit()\n",
    "            sys.exit()\n",
    "            \n",
    "    pygame.display.update()\n",
    "    fps_clock.tick(FPS)"
   ]
  },
  {
   "cell_type": "markdown",
   "metadata": {},
   "source": [
    "## Animation\n",
    "Animation in games is a series of static images drawn one after the other. The images are updated quickly to give the appearence of motion. A typically rate of update is 30 FPS or 60 FPS (30 images per second is one image every 33 milliseconds!).\n",
    "\n",
    "### The FPS Clock\n",
    "We need to define our frequency and create our clock prior to running our program in order for our program to update at a set frequency.\n",
    "\n",
    "```py\n",
    "FPS = 30\n",
    "fps_clock = pygame.time.Clock()\n",
    "```\n",
    "We'll use the clock in our game loop to keep our loops running at a set rate.\n",
    "\n",
    "### Loading images\n",
    "In order to load images we use the following command:\n",
    "```py\n",
    "image_variable = pygame.image.load('image_name.png')\n",
    "```\n",
    "### Blit-ing\n",
    "Blit-ing is drawing one surface object onto another surface object. In order to draw our moving picture we need to blit it on the screen.\n",
    "```py\n",
    "SCREEN_VAR.blit(image_variable, (x, y))\n",
    "```\n",
    "For example:\n",
    "```py\n",
    "DISPLAYSURF.blit(cat_img, (100, 100))\n",
    "```\n",
    "would draw the cat image so that the top left corner of the cat image is at pixel 100, 100.\n",
    "\n",
    "### Ticking\n",
    "We set up our clock already, so now we're going to use it. At the end of the game loop we will use\n",
    "```py\n",
    "fps_clock.tick(FPS)\n",
    "```\n",
    "This will calculate how long it's been since the last tick and then slow down until it gets to the proper speed. So if the loop take 5 ms to run, the tick will see that it needs to wait for another 28 ms so that the next frame isn't too fast."
   ]
  },
  {
   "cell_type": "code",
   "execution_count": null,
   "metadata": {
    "collapsed": true
   },
   "outputs": [],
   "source": []
  },
  {
   "cell_type": "code",
   "execution_count": 1,
   "metadata": {},
   "outputs": [
    {
     "ename": "SystemExit",
     "evalue": "",
     "output_type": "error",
     "traceback": [
      "An exception has occurred, use %tb to see the full traceback.\n",
      "\u001b[0;31mSystemExit\u001b[0m\n"
     ]
    },
    {
     "name": "stderr",
     "output_type": "stream",
     "text": [
      "/home/bz6w8b/miniconda2/envs/pygame/lib/python3.6/site-packages/IPython/core/interactiveshell.py:2889: UserWarning: To exit: use 'exit', 'quit', or Ctrl-D.\n",
      "  warn(\"To exit: use 'exit', 'quit', or Ctrl-D.\", stacklevel=1)\n"
     ]
    }
   ],
   "source": [
    "import pygame, sys\n",
    "from pygame.locals import *\n",
    "\n",
    "pygame.init()\n",
    "DISPLAYSURF = pygame.display.set_mode((400, 300))\n",
    "pygame.display.set_caption('Hello World!')\n",
    "\n",
    "WHITE = (255, 255, 255)\n",
    "GREEN = (  0, 255,   0)\n",
    "BLUE  = (  0,   0, 128)\n",
    "BLACK = (  0,   0,   0)\n",
    "\n",
    "fontObj = pygame.font.SysFont('arial', 32)\n",
    "textSufraceObj = fontObj.render('Hello world!', True, BLACK)\n",
    "textRectObj = textSufraceObj.get_rect()\n",
    "textRectObj.center = (200, 150)\n",
    "\n",
    "while True:\n",
    "    DISPLAYSURF.fill(WHITE)\n",
    "    DISPLAYSURF.blit(textSufraceObj, textRectObj)\n",
    "    for event in pygame.event.get():\n",
    "        if event.type == QUIT:\n",
    "            pygame.quit()\n",
    "            sys.exit()\n",
    "        pygame.display.update()"
   ]
  },
  {
   "cell_type": "markdown",
   "metadata": {},
   "source": [
    "## Words & Fonts\n",
    "You can write words to the screen to interact with the player.\n",
    "\n",
    "### Font Objects\n",
    "Font objects store information about the text that will be output to the screen. This would be information like font type and size.\n",
    "\n",
    "### Rendering\n",
    "Font objects can render text with the type and size they have by using the `render()` command. The rendered text should be stored as a surface object. This is an object that can be put on the screen and shown to the user. \n",
    "```py\n",
    "text_surface_object = font_object.render('Words', True, COLOR)\n",
    "\n",
    "```\n",
    "The second argument is called [anti-aliasing](https://www.youtube.com/watch?v=hqi0114mwtY) which is blending the picture with its surrounding so that it looks better. Since it makes it look more realisitic we will just set it True.\n",
    "\n",
    "### Using rectangles for position\n",
    "We'll also set its position. In order to do this easily we'll want to use the text's rectangle. The rectangle is useful because we can use its corners and center to set position. To get the rectangle we use the `get_rect()` function and set the result to a new variable. Then we can use the new rect object to set the position of the object.\n",
    "```py\n",
    "text_rect_object = text_surface_object.get_rect()\n",
    "text_rect_object.center = (200, 150)\n",
    "```\n",
    "\n",
    "### Displaying text to the screen\n",
    "In order to display text to the screen we will need to take the surface object we just created and blit it to the screen. We'll use the rectangle object we just created to define the position. \n",
    "```py\n",
    "SCREEN.blit(text_surface_object, text_rect_object)\n",
    "```"
   ]
  },
  {
   "cell_type": "code",
   "execution_count": null,
   "metadata": {
    "collapsed": true
   },
   "outputs": [],
   "source": []
  },
  {
   "cell_type": "markdown",
   "metadata": {},
   "source": [
    "## Sounds\n",
    "Sound from [Erokia on Freesound](http://freesound.org/people/Erokia/sounds/401928/)\n",
    "\n",
    "### Background music\n",
    "We can load background music using the mixer. We need to set up the mixer and load the sound with: \n",
    "```py\n",
    "pygame.mixer.init()\n",
    "pygame.mixer.music.load('background_music.mp3')\n",
    "```\n",
    "Then we can play the music.\n",
    "```py\n",
    "pygame.mixer.music.play(-1, 0.0)\n",
    "```\n",
    "The first argument is the number of times to play the sound. 10 will play it 10 times. -1 is used to play forever and ever. The second argument is the time in the song to start playing. 3.2 will start 3.2 seconds from the start of the song.\n",
    "\n",
    "We can stop the background music with \n",
    "```py\n",
    "pygame.mixer.music.stop()\n",
    "```"
   ]
  },
  {
   "cell_type": "code",
   "execution_count": 8,
   "metadata": {
    "collapsed": true
   },
   "outputs": [],
   "source": [
    "pygame.mixer.init()\n",
    "pygame.mixer.music.load('guitar.ogg')\n",
    "pygame.mixer.music.play(5, 0.0)"
   ]
  },
  {
   "cell_type": "code",
   "execution_count": 7,
   "metadata": {
    "collapsed": true
   },
   "outputs": [],
   "source": [
    "pygame.mixer.music.stop()"
   ]
  },
  {
   "cell_type": "markdown",
   "metadata": {},
   "source": [
    "### Sound effects\n",
    "Sometimes we want to play another sound over the background music. If we're playing a game with knights, maybe we want to have a sword clashing sound whenver the knight attacks. We handle these sounds a little bit differently.\n",
    "\n",
    "### Sound Objects\n",
    "Sound objects store a sound that can be played during the game. To create a sound object we use a command similar to how we set up background music.\n",
    "```py\n",
    "sound_object = pygame.mixer.Sound('sound.ogg')\n",
    "```\n",
    "\n",
    "### Playing the sound\n",
    "Somewhere in our game, usually when an event occurs, we will want to play the sound. To do this we use\n",
    "```py\n",
    "sound_object.play(loops, max_time_ms, fade_time)\n",
    "```\n",
    "If we just want to play the sound once we can say\n",
    "```py\n",
    "sound_object.play(1)\n",
    "```\n",
    "If we want to play for 2 seconds but we don't know how long the sound lasts we can do:\n",
    "```py\n",
    "sound_object.play(-1, 2000)\n",
    "```\n",
    "\n",
    "### Stopping the sound\n",
    "We can stop the sound using the stop() function\n",
    "```py\n",
    "sound_object.stop()\n",
    "```"
   ]
  },
  {
   "cell_type": "code",
   "execution_count": 15,
   "metadata": {},
   "outputs": [
    {
     "data": {
      "text/plain": [
       "<Channel at 0x7f78f05731b0>"
      ]
     },
     "execution_count": 15,
     "metadata": {},
     "output_type": "execute_result"
    }
   ],
   "source": [
    "pygame.mixer.init()\n",
    "soundObj = pygame.mixer.Sound('guitar.ogg')\n",
    "soundObj.play(-1, 2000)"
   ]
  },
  {
   "cell_type": "code",
   "execution_count": null,
   "metadata": {
    "collapsed": true
   },
   "outputs": [],
   "source": [
    "soundObj.stop()"
   ]
  },
  {
   "cell_type": "code",
   "execution_count": null,
   "metadata": {
    "collapsed": true
   },
   "outputs": [],
   "source": []
  },
  {
   "cell_type": "code",
   "execution_count": null,
   "metadata": {
    "collapsed": true
   },
   "outputs": [],
   "source": []
  },
  {
   "cell_type": "code",
   "execution_count": null,
   "metadata": {
    "collapsed": true
   },
   "outputs": [],
   "source": []
  },
  {
   "cell_type": "code",
   "execution_count": null,
   "metadata": {
    "collapsed": true
   },
   "outputs": [],
   "source": []
  },
  {
   "cell_type": "code",
   "execution_count": null,
   "metadata": {
    "collapsed": true
   },
   "outputs": [],
   "source": []
  },
  {
   "cell_type": "code",
   "execution_count": null,
   "metadata": {
    "collapsed": true
   },
   "outputs": [],
   "source": []
  },
  {
   "cell_type": "code",
   "execution_count": null,
   "metadata": {
    "collapsed": true
   },
   "outputs": [],
   "source": []
  },
  {
   "cell_type": "code",
   "execution_count": null,
   "metadata": {
    "collapsed": true
   },
   "outputs": [],
   "source": []
  },
  {
   "cell_type": "code",
   "execution_count": null,
   "metadata": {
    "collapsed": true
   },
   "outputs": [],
   "source": []
  }
 ],
 "metadata": {
  "kernelspec": {
   "display_name": "Python 3",
   "language": "python",
   "name": "python3"
  },
  "language_info": {
   "codemirror_mode": {
    "name": "ipython",
    "version": 3
   },
   "file_extension": ".py",
   "mimetype": "text/x-python",
   "name": "python",
   "nbconvert_exporter": "python",
   "pygments_lexer": "ipython3",
   "version": "3.6.2"
  }
 },
 "nbformat": 4,
 "nbformat_minor": 2
}
